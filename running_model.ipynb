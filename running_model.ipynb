{
 "cells": [
  {
   "cell_type": "code",
   "execution_count": null,
   "id": "fb7ed0a7-798b-4b4c-b89b-22417c25258f",
   "metadata": {},
   "outputs": [],
   "source": [
    "from transformers import AutoModelForCausalLM, AutoTokenizer"
   ]
  },
  {
   "cell_type": "code",
   "execution_count": null,
   "id": "8cd42ede-7a60-4476-bc0d-921b11006903",
   "metadata": {},
   "outputs": [],
   "source": [
    "model = AutoModelForCausalLM.from_pretrained('./legislinhOpenHermesQnAFinal/')\n",
    "tokenizer = AutoTokenizer.from_pretrained('teknium/OpenHermes-2.5-Mistral-7B')"
   ]
  },
  {
   "cell_type": "code",
   "execution_count": null,
   "id": "7c5562dd-4e49-41f7-a423-cea207701448",
   "metadata": {},
   "outputs": [],
   "source": [
    "preprompt = 'Você é um agente de auxílio jurídico que não repete palavras de forma redundante e redige de forma clara concisa, como alguém formado em direito. Você não cita leis de forma alguma apenas procedimentos legais e operações. Você apenas é uma primeira consulta antes da pessoa procurar um advogado. Utilize todo o seu conhecimento da constituição brasileira para responder. Não repita a mesma informação em sua resposta. Seja assertivo. Atente-se a pergunta e elabore uma estratégia de solução do problema contemplando toda a pergunta, tal como faz um advogado. Pergunta:\\n'\n",
    "#preprompt = 'Pergunta:\\n'\n",
    "prompt = 'Minha mãe vendeu sua casa para um de seus filhos. Ela pode fazer isso sem a autorização dos outros filhos?'\n",
    "pospromt = \"\\nResposta:\"\n",
    "inputs = tokenizer(preprompt+prompt+pospromt, return_tensors='pt').to('cuda')"
   ]
  },
  {
   "cell_type": "code",
   "execution_count": null,
   "id": "1156d551-a944-465d-a2d9-40620ed7f4b1",
   "metadata": {},
   "outputs": [],
   "source": [
    "outputs = model.generate(**inputs,max_new_tokens=1000)\n",
    "print(tokenizer.decode(outputs[0], skip_special_tokens=True))"
   ]
  },
  {
   "cell_type": "code",
   "execution_count": null,
   "id": "1b30d4b1-fa86-40f1-804d-b3fa3a6d42c8",
   "metadata": {},
   "outputs": [],
   "source": [
    "outputs = model.generate(**inputs,max_new_tokens=800)\n",
    "print(tokenizer.decode(outputs[0], skip_special_tokens=True))"
   ]
  },
  {
   "cell_type": "code",
   "execution_count": null,
   "id": "e67c6523-fb51-4cff-a6fa-600f184078b8",
   "metadata": {
    "scrolled": true
   },
   "outputs": [],
   "source": [
    "outputs = model.generate(**inputs,max_new_tokens=1000)\n",
    "print(tokenizer.decode(outputs[0], skip_special_tokens=False))"
   ]
  },
  {
   "cell_type": "code",
   "execution_count": null,
   "id": "17daddf8-4368-4478-8b54-1d4db0456f68",
   "metadata": {},
   "outputs": [],
   "source": []
  }
 ],
 "metadata": {
  "kernelspec": {
   "display_name": "Python 3 (ipykernel)",
   "language": "python",
   "name": "python3"
  },
  "language_info": {
   "codemirror_mode": {
    "name": "ipython",
    "version": 3
   },
   "file_extension": ".py",
   "mimetype": "text/x-python",
   "name": "python",
   "nbconvert_exporter": "python",
   "pygments_lexer": "ipython3",
   "version": "3.10.8"
  }
 },
 "nbformat": 4,
 "nbformat_minor": 5
}
