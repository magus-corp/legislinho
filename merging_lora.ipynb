{
 "cells": [
  {
   "cell_type": "code",
   "execution_count": null,
   "id": "f852d1a3-cda3-4f46-abc5-7b5517f94cf1",
   "metadata": {},
   "outputs": [],
   "source": [
    "import torch\n",
    "from transformers import AutoTokenizer, AutoModelForCausalLM, BitsAndBytesConfig\n",
    "import transformers\n",
    "from peft import prepare_model_for_kbit_training\n",
    "from peft import LoraConfig, get_peft_model\n",
    "from datasets import load_dataset\n",
    "from peft import PeftModel"
   ]
  },
  {
   "cell_type": "code",
   "execution_count": null,
   "id": "57115ba5-94c1-4253-9b2d-c01bd8bb38d7",
   "metadata": {},
   "outputs": [],
   "source": [
    "bnb_config = BitsAndBytesConfig(\n",
    "    load_in_4bit=True,\n",
    "    bnb_4bit_use_double_quant=True,\n",
    "    bnb_4bit_quant_type=\"nf4\",\n",
    "    bnb_4bit_compute_dtype=torch.bfloat16\n",
    ")"
   ]
  },
  {
   "cell_type": "code",
   "execution_count": null,
   "id": "08b2358c-5c74-46df-b47a-399759dc7cfc",
   "metadata": {
    "scrolled": true
   },
   "outputs": [],
   "source": [
    "model_id = \"teknium/OpenHermes-2.5-Mistral-7B\""
   ]
  },
  {
   "cell_type": "code",
   "execution_count": null,
   "id": "fe4dca82-cefc-46db-b0db-c8e8487f6cec",
   "metadata": {},
   "outputs": [],
   "source": [
    "model = prepare_model_for_kbit_training(AutoModelForCausalLM.from_pretrained(model_id, quantization_config=bnb_config, device_map={\"\":0}))"
   ]
  },
  {
   "cell_type": "code",
   "execution_count": null,
   "id": "ee0c99ad-7905-4090-83fb-cc1f67fbf0c9",
   "metadata": {
    "scrolled": true
   },
   "outputs": [],
   "source": [
    "model"
   ]
  },
  {
   "cell_type": "code",
   "execution_count": null,
   "id": "a8d747c0-9877-42c1-a542-28403e0c48a9",
   "metadata": {
    "scrolled": true
   },
   "outputs": [],
   "source": [
    "model_to_merge = PeftModel.from_pretrained(model, \"./models/legislinho-QnA-Openhermes-final/\")"
   ]
  },
  {
   "cell_type": "code",
   "execution_count": null,
   "id": "9f4b9a61-e9e3-4943-a101-8086cc4ff8c5",
   "metadata": {
    "scrolled": true
   },
   "outputs": [],
   "source": [
    "model_to_merge"
   ]
  },
  {
   "cell_type": "code",
   "execution_count": null,
   "id": "4358abc3-f1fc-4519-a367-4f4af5d10e13",
   "metadata": {},
   "outputs": [],
   "source": [
    "merged_model = model_to_merge.merge_and_unload()"
   ]
  },
  {
   "cell_type": "code",
   "execution_count": null,
   "id": "46ad4681-435c-43ee-8482-fc301ee3ce50",
   "metadata": {
    "scrolled": true
   },
   "outputs": [],
   "source": [
    "merged_model"
   ]
  },
  {
   "cell_type": "code",
   "execution_count": null,
   "id": "95ada51d-5b4d-438d-8cb6-50a4a0334bb5",
   "metadata": {},
   "outputs": [],
   "source": [
    " merged_model.save_pretrained(\"./legislinhOpenHermesQnAFinal\")"
   ]
  },
  {
   "cell_type": "code",
   "execution_count": null,
   "id": "517f73d8-564b-4acd-b48c-1793218b37ff",
   "metadata": {},
   "outputs": [],
   "source": []
  }
 ],
 "metadata": {
  "kernelspec": {
   "display_name": "Python 3 (ipykernel)",
   "language": "python",
   "name": "python3"
  },
  "language_info": {
   "codemirror_mode": {
    "name": "ipython",
    "version": 3
   },
   "file_extension": ".py",
   "mimetype": "text/x-python",
   "name": "python",
   "nbconvert_exporter": "python",
   "pygments_lexer": "ipython3",
   "version": "3.10.8"
  }
 },
 "nbformat": 4,
 "nbformat_minor": 5
}
