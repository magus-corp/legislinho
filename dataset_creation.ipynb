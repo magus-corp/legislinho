{
 "cells": [
  {
   "cell_type": "code",
   "execution_count": null,
   "id": "9fa78310-7cf3-4974-99dc-22d74b9d4875",
   "metadata": {},
   "outputs": [],
   "source": [
    "import torch\n",
    "from transformers import AutoTokenizer, AutoModelForCausalLM, BitsAndBytesConfig\n",
    "import transformers\n",
    "from peft import prepare_model_for_kbit_training\n",
    "from peft import LoraConfig, get_peft_model\n",
    "from datasets import load_dataset\n",
    "from datasets import Dataset\n",
    "from peft import PeftModel\n",
    "import datetime\n",
    "from datetime import datetime\n",
    "import wandb\n",
    "import os\n",
    "import json\n",
    "from transformers import AutoTokenizer\n",
    "from datasets import Dataset"
   ]
  },
  {
   "cell_type": "code",
   "execution_count": null,
   "id": "1b119179-7492-42c7-918c-cd2a685d4157",
   "metadata": {},
   "outputs": [],
   "source": [
    "model_id = \"teknium/OpenHermes-2.5-Mistral-7B\""
   ]
  },
  {
   "cell_type": "code",
   "execution_count": null,
   "id": "ac7d57cf-3dd7-4590-9fac-d9dbcc984ab5",
   "metadata": {},
   "outputs": [],
   "source": [
    "# Specify the path to the text file and the output directory\n",
    "file_path = './vaduru_mecuru.txt'\n",
    "output_dir = './vaduru_mecuru_folder'"
   ]
  },
  {
   "cell_type": "code",
   "execution_count": null,
   "id": "3f970b2a-2743-4e58-b96e-0ab0700b95f0",
   "metadata": {},
   "outputs": [],
   "source": [
    "from langchain.text_splitter import TokenTextSplitter"
   ]
  },
  {
   "cell_type": "code",
   "execution_count": null,
   "id": "5dba33e8-e7e1-4886-b411-7cbacaa0d3b1",
   "metadata": {},
   "outputs": [],
   "source": [
    "text_splitter = TokenTextSplitter(chunk_size=2000, chunk_overlap=1000)"
   ]
  },
  {
   "cell_type": "code",
   "execution_count": null,
   "id": "d0aa14c5-3cb1-4def-b29a-237b20e256d2",
   "metadata": {},
   "outputs": [],
   "source": [
    "with open(file_path, 'r') as f:\n",
    "    text = f.read().replace('\\n', '')"
   ]
  },
  {
   "cell_type": "code",
   "execution_count": null,
   "id": "73d602aa-072a-4328-a141-845686bf42a4",
   "metadata": {},
   "outputs": [],
   "source": [
    "texts = text_splitter.split_text(text)"
   ]
  },
  {
   "cell_type": "code",
   "execution_count": null,
   "id": "9d5f6357-6cbe-4f47-b4ce-15687b309b0d",
   "metadata": {},
   "outputs": [],
   "source": [
    "len(texts)"
   ]
  },
  {
   "cell_type": "code",
   "execution_count": null,
   "id": "867354a8-e928-481e-90c5-4c0752601018",
   "metadata": {},
   "outputs": [],
   "source": [
    "data = [{\"data\":y} for y in texts]"
   ]
  },
  {
   "cell_type": "code",
   "execution_count": null,
   "id": "367aee69-cde1-405b-b4f7-2bbd41b4e5b3",
   "metadata": {},
   "outputs": [],
   "source": [
    "with open(file_path+'.json', 'w') as f:\n",
    "    json.dump(data, f, ensure_ascii=False, indent=4)"
   ]
  },
  {
   "cell_type": "code",
   "execution_count": null,
   "id": "6c7226cc-7e9d-400d-b49d-c7341639085b",
   "metadata": {},
   "outputs": [],
   "source": [
    "from datasets import load_dataset\n",
    "\n",
    "dataset = load_dataset('json', data_files=file_path+'.json')"
   ]
  },
  {
   "cell_type": "code",
   "execution_count": null,
   "id": "32b896c0-5958-4354-9490-e4b7d42ce5bc",
   "metadata": {},
   "outputs": [],
   "source": [
    "# Transformar essas bostas em função :P"
   ]
  },
  {
   "cell_type": "code",
   "execution_count": null,
   "id": "53749ecb-51b9-47b8-9aea-2f5cd08d2ff2",
   "metadata": {},
   "outputs": [],
   "source": [
    "files = ['Direito_do_Trabalho.xlsx',\n",
    "         'Direitos_Difusos_e_Coletivos.xlsx',\n",
    "         'Direito_Administrativo_e_Constitucional.xlsx',\n",
    "         'Direito_Civil.xlsx',\n",
    "         'Direito_Comercial.xlsx',\n",
    "         'Direito_Internacional.xlsx',\n",
    "         'Direito_Penal.xlsx',\n",
    "         'Direito_Tributário.xlsx',\n",
    "         'Direitos_Humanos.xlsx',\n",
    "         'Processo Penal.xlsx',\n",
    "         'Processo_Civil.xlsx'\n",
    "        ]"
   ]
  },
  {
   "cell_type": "code",
   "execution_count": null,
   "id": "5876ae62-09f1-445a-9ce1-a899998afbcb",
   "metadata": {},
   "outputs": [],
   "source": [
    "import pandas as pd"
   ]
  },
  {
   "cell_type": "code",
   "execution_count": null,
   "id": "825f95f5-5d91-497c-a111-c2d6b1fb5878",
   "metadata": {},
   "outputs": [],
   "source": [
    "def xlsx_to_json_given_tokens_and_overlap(file,max,overlap):\n",
    "    df = pd.read_excel(file)\n",
    "    a = [{\"data\":str(str(x[1]['titulo'])+\"\\n\"+str(x[1]['texto']))} for x in df.iterrows()]\n",
    "    textofinal = \"\"\n",
    "    for item in a:\n",
    "        textofinal = textofinal + item[\"data\"]\n",
    "    text_splitter = TokenTextSplitter(chunk_size=max, chunk_overlap=overlap)\n",
    "    texts = text_splitter.split_text(textofinal)\n",
    "    file_name = file.split(\".\")[0]\n",
    "    data = [{\"data\":y} for y in texts]\n",
    "    with open(\"./datasets\"+str(max)+\"/\"+file_name+\"_\"+str(max)+\"_\"+str(overlap)+'.json', 'w') as f:\n",
    "        json.dump(data, f, ensure_ascii=False, indent=4)"
   ]
  },
  {
   "cell_type": "code",
   "execution_count": null,
   "id": "3ebc7cf5-6163-4f02-8592-8aed90de2e32",
   "metadata": {},
   "outputs": [],
   "source": [
    "for item in files:\n",
    "    xlsx_to_json_given_tokens_and_overlap(item,2000,1000)"
   ]
  },
  {
   "cell_type": "code",
   "execution_count": null,
   "id": "150ae712-c48c-459a-93ae-e1c83d26afc7",
   "metadata": {},
   "outputs": [],
   "source": [
    "df = pd.read_excel(\"datasets/Question and Answer - https___perguntaserespostas.jusbrasil.com.br_publicacoes.xlsx\")"
   ]
  },
  {
   "cell_type": "code",
   "execution_count": null,
   "id": "ac6ffb9c-9eca-4a12-b672-d20404fb21be",
   "metadata": {},
   "outputs": [],
   "source": [
    "df0 = pd.read_excel(\"datasets/Question and Answer - https___perguntaserespostas.jusbrasil.com.br_publicacoes (2).xlsx\")"
   ]
  },
  {
   "cell_type": "code",
   "execution_count": null,
   "id": "c6d743fa-2b8b-4c9f-97c6-e7b6cdc50b2b",
   "metadata": {},
   "outputs": [],
   "source": [
    "df0"
   ]
  },
  {
   "cell_type": "code",
   "execution_count": null,
   "id": "8c0415b2-be7e-43c3-b4dd-d50b65206c54",
   "metadata": {},
   "outputs": [],
   "source": [
    "def create_prompt(x):\n",
    "    a = str(x[1]['Mais Contexto'])\n",
    "    b = str(x[1]['Pergunta']).replace('[Dúvida]','')\n",
    "    c = str(x[1]['Resposta'])\n",
    "    return f\"Pergunta: {a} \\n {b} \\n Resposta: {c}\""
   ]
  },
  {
   "cell_type": "code",
   "execution_count": null,
   "id": "6fd86da3-fdc5-423f-9e9a-6dc1b4790ae5",
   "metadata": {},
   "outputs": [],
   "source": [
    "a = [{\"data\":create_prompt(x)} for x in df0.iterrows()]"
   ]
  },
  {
   "cell_type": "code",
   "execution_count": null,
   "id": "2c4d4d2f-74c8-48a3-b663-d85645b2be2d",
   "metadata": {
    "scrolled": true
   },
   "outputs": [],
   "source": [
    "import json"
   ]
  },
  {
   "cell_type": "code",
   "execution_count": null,
   "id": "329a26a7-4d1a-40fb-8a1b-2ed363e0d8b6",
   "metadata": {},
   "outputs": [],
   "source": [
    "with open(\"./datasets/\"+'perguntas.json', 'w') as f:\n",
    "    json.dump(a, f, ensure_ascii=False, indent=4)"
   ]
  },
  {
   "cell_type": "code",
   "execution_count": null,
   "id": "789e7c2b-bc8c-4d3e-924d-5b82387dd9b8",
   "metadata": {},
   "outputs": [],
   "source": []
  }
 ],
 "metadata": {
  "kernelspec": {
   "display_name": "Python 3 (ipykernel)",
   "language": "python",
   "name": "python3"
  },
  "language_info": {
   "codemirror_mode": {
    "name": "ipython",
    "version": 3
   },
   "file_extension": ".py",
   "mimetype": "text/x-python",
   "name": "python",
   "nbconvert_exporter": "python",
   "pygments_lexer": "ipython3",
   "version": "3.10.8"
  }
 },
 "nbformat": 4,
 "nbformat_minor": 5
}
